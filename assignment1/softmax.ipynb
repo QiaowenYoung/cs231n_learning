{
 "cells": [
  {
   "cell_type": "markdown",
   "metadata": {
    "tags": [
     "pdf-title"
    ]
   },
   "source": [
    "# Softmax exercise\n",
    "\n",
    "*Complete and hand in this completed worksheet (including its outputs and any supporting code outside of the worksheet) with your assignment submission. For more details see the [assignments page](http://vision.stanford.edu/teaching/cs231n/assignments.html) on the course website.*\n",
    "\n",
    "This exercise is analogous to the SVM exercise. You will:\n",
    "\n",
    "- implement a fully-vectorized **loss function** for the Softmax classifier\n",
    "- implement the fully-vectorized expression for its **analytic gradient**\n",
    "- **check your implementation** with numerical gradient\n",
    "- use a validation set to **tune the learning rate and regularization** strength\n",
    "- **optimize** the loss function with **SGD**\n",
    "- **visualize** the final learned weights\n"
   ]
  },
  {
   "cell_type": "code",
   "execution_count": 1,
   "metadata": {
    "tags": [
     "pdf-ignore"
    ]
   },
   "outputs": [],
   "source": [
    "import random\n",
    "import numpy as np\n",
    "from cs231n.data_utils import load_CIFAR10\n",
    "import matplotlib.pyplot as plt\n",
    "\n",
    "%matplotlib inline\n",
    "plt.rcParams['figure.figsize'] = (10.0, 8.0) # set default size of plots\n",
    "plt.rcParams['image.interpolation'] = 'nearest'\n",
    "plt.rcParams['image.cmap'] = 'gray'\n",
    "\n",
    "# for auto-reloading extenrnal modules\n",
    "# see http://stackoverflow.com/questions/1907993/autoreload-of-modules-in-ipython\n",
    "%load_ext autoreload\n",
    "%autoreload 2"
   ]
  },
  {
   "cell_type": "code",
   "execution_count": 2,
   "metadata": {
    "tags": [
     "pdf-ignore"
    ]
   },
   "outputs": [
    {
     "name": "stdout",
     "output_type": "stream",
     "text": [
      "Train data shape:  (49000, 3073)\n",
      "Train labels shape:  (49000,)\n",
      "Validation data shape:  (1000, 3073)\n",
      "Validation labels shape:  (1000,)\n",
      "Test data shape:  (1000, 3073)\n",
      "Test labels shape:  (1000,)\n",
      "dev data shape:  (500, 3073)\n",
      "dev labels shape:  (500,)\n"
     ]
    }
   ],
   "source": [
    "def get_CIFAR10_data(num_training=49000, num_validation=1000, num_test=1000, num_dev=500):\n",
    "    \"\"\"\n",
    "    Load the CIFAR-10 dataset from disk and perform preprocessing to prepare\n",
    "    it for the linear classifier. These are the same steps as we used for the\n",
    "    SVM, but condensed to a single function.  \n",
    "    \"\"\"\n",
    "    # Load the raw CIFAR-10 data\n",
    "    cifar10_dir = 'cs231n/datasets/cifar-10-batches-py'\n",
    "    \n",
    "    # Cleaning up variables to prevent loading data multiple times (which may cause memory issue)\n",
    "    try:\n",
    "       del X_train, y_train\n",
    "       del X_test, y_test\n",
    "       print('Clear previously loaded data.')\n",
    "    except:\n",
    "       pass\n",
    "\n",
    "    X_train, y_train, X_test, y_test = load_CIFAR10(cifar10_dir)\n",
    "    \n",
    "    # subsample the data\n",
    "    mask = list(range(num_training, num_training + num_validation))\n",
    "    X_val = X_train[mask]\n",
    "    y_val = y_train[mask]\n",
    "    mask = list(range(num_training))\n",
    "    X_train = X_train[mask]\n",
    "    y_train = y_train[mask]\n",
    "    mask = list(range(num_test))\n",
    "    X_test = X_test[mask]\n",
    "    y_test = y_test[mask]\n",
    "    mask = np.random.choice(num_training, num_dev, replace=False)\n",
    "    X_dev = X_train[mask]\n",
    "    y_dev = y_train[mask]\n",
    "    \n",
    "    # Preprocessing: reshape the image data into rows\n",
    "    X_train = np.reshape(X_train, (X_train.shape[0], -1))\n",
    "    X_val = np.reshape(X_val, (X_val.shape[0], -1))\n",
    "    X_test = np.reshape(X_test, (X_test.shape[0], -1))\n",
    "    X_dev = np.reshape(X_dev, (X_dev.shape[0], -1))\n",
    "    \n",
    "    # Normalize the data: subtract the mean image\n",
    "    mean_image = np.mean(X_train, axis = 0)\n",
    "    X_train -= mean_image\n",
    "    X_val -= mean_image\n",
    "    X_test -= mean_image\n",
    "    X_dev -= mean_image\n",
    "    \n",
    "    # add bias dimension and transform into columns\n",
    "    X_train = np.hstack([X_train, np.ones((X_train.shape[0], 1))])\n",
    "    X_val = np.hstack([X_val, np.ones((X_val.shape[0], 1))])\n",
    "    X_test = np.hstack([X_test, np.ones((X_test.shape[0], 1))])\n",
    "    X_dev = np.hstack([X_dev, np.ones((X_dev.shape[0], 1))])\n",
    "    \n",
    "    return X_train, y_train, X_val, y_val, X_test, y_test, X_dev, y_dev\n",
    "\n",
    "\n",
    "# Invoke the above function to get our data.\n",
    "X_train, y_train, X_val, y_val, X_test, y_test, X_dev, y_dev = get_CIFAR10_data()\n",
    "print('Train data shape: ', X_train.shape)\n",
    "print('Train labels shape: ', y_train.shape)\n",
    "print('Validation data shape: ', X_val.shape)\n",
    "print('Validation labels shape: ', y_val.shape)\n",
    "print('Test data shape: ', X_test.shape)\n",
    "print('Test labels shape: ', y_test.shape)\n",
    "print('dev data shape: ', X_dev.shape)\n",
    "print('dev labels shape: ', y_dev.shape)"
   ]
  },
  {
   "cell_type": "markdown",
   "metadata": {},
   "source": [
    "## Softmax Classifier\n",
    "\n",
    "Your code for this section will all be written inside **cs231n/classifiers/softmax.py**. \n"
   ]
  },
  {
   "cell_type": "code",
   "execution_count": 3,
   "metadata": {},
   "outputs": [
    {
     "name": "stdout",
     "output_type": "stream",
     "text": [
      "loss: 2.378196\n",
      "sanity check: 2.302585\n"
     ]
    }
   ],
   "source": [
    "# First implement the naive softmax loss function with nested loops.\n",
    "# Open the file cs231n/classifiers/softmax.py and implement the\n",
    "# softmax_loss_naive function.\n",
    "\n",
    "from cs231n.classifiers.softmax import softmax_loss_naive\n",
    "import time\n",
    "\n",
    "# Generate a random softmax weight matrix and use it to compute the loss.\n",
    "W = np.random.randn(3073, 10) * 0.0001\n",
    "loss, grad = softmax_loss_naive(W, X_dev, y_dev, 0.0)\n",
    "\n",
    "# As a rough sanity check, our loss should be something close to -log(0.1).\n",
    "print('loss: %f' % loss)\n",
    "print('sanity check: %f' % (-np.log(0.1)))"
   ]
  },
  {
   "cell_type": "markdown",
   "metadata": {
    "tags": [
     "pdf-inline"
    ]
   },
   "source": [
    "**Inline Question 1**\n",
    "\n",
    "Why do we expect our loss to be close to -log(0.1)? Explain briefly.\n",
    "\n",
    "$\\color{blue}{\\textit Your Answer:}$ \n",
    "There are 10 classes in total. Initially, we will expect the accuracy of a wild guess to be 1/10.\n",
    "\n"
   ]
  },
  {
   "cell_type": "code",
   "execution_count": 4,
   "metadata": {},
   "outputs": [
    {
     "name": "stdout",
     "output_type": "stream",
     "text": [
      "numerical: 0.258632 analytic: 0.258632, relative error: 1.957748e-07\n",
      "numerical: 2.373692 analytic: 2.373692, relative error: 2.103669e-08\n",
      "numerical: 0.390401 analytic: 0.390401, relative error: 4.697051e-08\n",
      "numerical: -0.485988 analytic: -0.485988, relative error: 1.045697e-08\n",
      "numerical: -4.700688 analytic: -4.700688, relative error: 4.659752e-09\n",
      "numerical: 0.560575 analytic: 0.560575, relative error: 3.408004e-08\n",
      "numerical: -1.724235 analytic: -1.724235, relative error: 1.561276e-08\n",
      "numerical: -1.006920 analytic: -1.006920, relative error: 1.229890e-10\n",
      "numerical: -1.017094 analytic: -1.017094, relative error: 5.454950e-08\n",
      "numerical: -0.404638 analytic: -0.404639, relative error: 9.268008e-08\n",
      "numerical: 0.661808 analytic: 0.661808, relative error: 6.126314e-09\n",
      "numerical: -1.013752 analytic: -1.013752, relative error: 1.102744e-08\n",
      "numerical: 0.332780 analytic: 0.332780, relative error: 1.905994e-07\n",
      "numerical: 0.388756 analytic: 0.388756, relative error: 1.494723e-07\n",
      "numerical: 1.881188 analytic: 1.881188, relative error: 2.585508e-08\n",
      "numerical: 0.548659 analytic: 0.548659, relative error: 2.465334e-08\n",
      "numerical: 3.161123 analytic: 3.161123, relative error: 1.255017e-08\n",
      "numerical: -1.087997 analytic: -1.087997, relative error: 5.150328e-09\n",
      "numerical: 1.895822 analytic: 1.895822, relative error: 1.187030e-09\n",
      "numerical: -1.436935 analytic: -1.436935, relative error: 5.407770e-08\n"
     ]
    }
   ],
   "source": [
    "# Complete the implementation of softmax_loss_naive and implement a (naive)\n",
    "# version of the gradient that uses nested loops.\n",
    "loss, grad = softmax_loss_naive(W, X_dev, y_dev, 0.0)\n",
    "\n",
    "# As we did for the SVM, use numeric gradient checking as a debugging tool.\n",
    "# The numeric gradient should be close to the analytic gradient.\n",
    "from cs231n.gradient_check import grad_check_sparse\n",
    "f = lambda w: softmax_loss_naive(w, X_dev, y_dev, 0.0)[0]\n",
    "grad_numerical = grad_check_sparse(f, W, grad, 10)\n",
    "\n",
    "# similar to SVM case, do another gradient check with regularization\n",
    "loss, grad = softmax_loss_naive(W, X_dev, y_dev, 5e1)\n",
    "f = lambda w: softmax_loss_naive(w, X_dev, y_dev, 5e1)[0]\n",
    "grad_numerical = grad_check_sparse(f, W, grad, 10)"
   ]
  },
  {
   "cell_type": "code",
   "execution_count": 14,
   "metadata": {},
   "outputs": [
    {
     "name": "stdout",
     "output_type": "stream",
     "text": [
      "naive loss: 2.378196e+00 computed in 0.099999s\n",
      "vectorized loss: 2.378196e+00 computed in 0.003256s\n",
      "Loss difference: 0.000000\n",
      "Gradient difference: 0.000000\n"
     ]
    }
   ],
   "source": [
    "# Now that we have a naive implementation of the softmax loss function and its gradient,\n",
    "# implement a vectorized version in softmax_loss_vectorized.\n",
    "# The two versions should compute the same results, but the vectorized version should be\n",
    "# much faster.\n",
    "tic = time.time()\n",
    "loss_naive, grad_naive = softmax_loss_naive(W, X_dev, y_dev, 0.000005)\n",
    "toc = time.time()\n",
    "print('naive loss: %e computed in %fs' % (loss_naive, toc - tic))\n",
    "\n",
    "from cs231n.classifiers.softmax import softmax_loss_vectorized\n",
    "tic = time.time()\n",
    "loss_vectorized, grad_vectorized = softmax_loss_vectorized(W, X_dev, y_dev, 0.000005)\n",
    "toc = time.time()\n",
    "print('vectorized loss: %e computed in %fs' % (loss_vectorized, toc - tic))\n",
    "\n",
    "# As we did for the SVM, we use the Frobenius norm to compare the two versions\n",
    "# of the gradient.\n",
    "grad_difference = np.linalg.norm(grad_naive - grad_vectorized, ord='fro')\n",
    "print('Loss difference: %f' % np.abs(loss_naive - loss_vectorized))\n",
    "print('Gradient difference: %f' % grad_difference)"
   ]
  },
  {
   "cell_type": "code",
   "execution_count": 15,
   "metadata": {
    "tags": [
     "code"
    ]
   },
   "outputs": [
    {
     "name": "stdout",
     "output_type": "stream",
     "text": [
      "iteration 0 / 1500: loss 386.632335\n",
      "iteration 100 / 1500: loss 233.890984\n",
      "iteration 200 / 1500: loss 141.922936\n",
      "iteration 300 / 1500: loss 86.617568\n",
      "iteration 400 / 1500: loss 53.229527\n",
      "iteration 500 / 1500: loss 33.043171\n",
      "iteration 600 / 1500: loss 20.691127\n",
      "iteration 700 / 1500: loss 13.411143\n",
      "iteration 800 / 1500: loss 8.819940\n",
      "iteration 900 / 1500: loss 6.235596\n",
      "iteration 1000 / 1500: loss 4.448178\n",
      "iteration 1100 / 1500: loss 3.587110\n",
      "iteration 1200 / 1500: loss 2.931315\n",
      "iteration 1300 / 1500: loss 2.541757\n",
      "iteration 1400 / 1500: loss 2.364851\n",
      "iteration 0 / 1500: loss 773.369658\n",
      "iteration 100 / 1500: loss 283.997314\n",
      "iteration 200 / 1500: loss 105.215333\n",
      "iteration 300 / 1500: loss 39.881523\n",
      "iteration 400 / 1500: loss 15.868737\n",
      "iteration 500 / 1500: loss 7.140062\n",
      "iteration 600 / 1500: loss 3.968832\n",
      "iteration 700 / 1500: loss 2.768067\n",
      "iteration 800 / 1500: loss 2.331680\n",
      "iteration 900 / 1500: loss 2.224352\n",
      "iteration 1000 / 1500: loss 2.127280\n",
      "iteration 1100 / 1500: loss 2.077284\n",
      "iteration 1200 / 1500: loss 2.079758\n",
      "iteration 1300 / 1500: loss 2.062850\n",
      "iteration 1400 / 1500: loss 2.053541\n",
      "iteration 0 / 1500: loss 386.862055\n",
      "iteration 100 / 1500: loss 32.620789\n",
      "iteration 200 / 1500: loss 4.440421\n",
      "iteration 300 / 1500: loss 2.188472\n",
      "iteration 400 / 1500: loss 2.086117\n",
      "iteration 500 / 1500: loss 2.000541\n",
      "iteration 600 / 1500: loss 2.025160\n",
      "iteration 700 / 1500: loss 1.981778\n",
      "iteration 800 / 1500: loss 2.030379\n",
      "iteration 900 / 1500: loss 2.026542\n",
      "iteration 1000 / 1500: loss 2.062591\n",
      "iteration 1100 / 1500: loss 2.014102\n",
      "iteration 1200 / 1500: loss 2.012028\n",
      "iteration 1300 / 1500: loss 2.013765\n",
      "iteration 1400 / 1500: loss 2.051470\n",
      "iteration 0 / 1500: loss 771.321521\n",
      "iteration 100 / 1500: loss 6.944299\n",
      "iteration 200 / 1500: loss 2.095579\n",
      "iteration 300 / 1500: loss 2.074474\n",
      "iteration 400 / 1500: loss 2.075977\n",
      "iteration 500 / 1500: loss 2.135580\n",
      "iteration 600 / 1500: loss 2.090644\n",
      "iteration 700 / 1500: loss 2.131738\n",
      "iteration 800 / 1500: loss 2.084765\n",
      "iteration 900 / 1500: loss 2.067369\n",
      "iteration 1000 / 1500: loss 2.117197\n",
      "iteration 1100 / 1500: loss 2.064603\n",
      "iteration 1200 / 1500: loss 2.134285\n",
      "iteration 1300 / 1500: loss 2.113393\n",
      "iteration 1400 / 1500: loss 2.081256\n",
      "lr 1.000000e-07 reg 2.500000e+04 train accuracy: 0.345286 val accuracy: 0.368000\n",
      "lr 1.000000e-07 reg 5.000000e+04 train accuracy: 0.333102 val accuracy: 0.351000\n",
      "lr 5.000000e-07 reg 2.500000e+04 train accuracy: 0.347980 val accuracy: 0.364000\n",
      "lr 5.000000e-07 reg 5.000000e+04 train accuracy: 0.327143 val accuracy: 0.343000\n",
      "best validation accuracy achieved during cross-validation: 0.368000\n"
     ]
    }
   ],
   "source": [
    "# Use the validation set to tune hyperparameters (regularization strength and\n",
    "# learning rate). You should experiment with different ranges for the learning\n",
    "# rates and regularization strengths; if you are careful you should be able to\n",
    "# get a classification accuracy of over 0.35 on the validation set.\n",
    "from cs231n.classifiers.linear_classifier import Softmax\n",
    "results = {}\n",
    "best_val = -1\n",
    "best_softmax = None\n",
    "learning_rates = [1e-7, 5e-7]\n",
    "regularization_strengths = [2.5e4, 5e4]\n",
    "\n",
    "################################################################################\n",
    "# TODO:                                                                        #\n",
    "# Use the validation set to set the learning rate and regularization strength. #\n",
    "# This should be identical to the validation that you did for the SVM; save    #\n",
    "# the best trained softmax classifer in best_softmax.                          #\n",
    "################################################################################\n",
    "# *****START OF YOUR CODE (DO NOT DELETE/MODIFY THIS LINE)*****\n",
    "\n",
    "pass\n",
    "for i in learning_rates:\n",
    "    for j in regularization_strengths:\n",
    "        softmax = Softmax()\n",
    "        loss_history = softmax.train(X_train, y_train, learning_rate = i, reg = j, num_iters = 1500,\n",
    "              batch_size = 200, verbose = True)\n",
    "        y_pred_1 = softmax.predict(X_train)\n",
    "        y_pred_2 = softmax.predict(X_val)\n",
    "        accuracy_1 = float(np.sum(y_train == y_pred_1)) / y_train.shape[0]\n",
    "        accuracy_2 = float(np.sum(y_val == y_pred_2)) / y_val.shape[0]\n",
    "        results[(i, j)] = (accuracy_1, accuracy_2)\n",
    "        if accuracy_2 > best_val:\n",
    "            best_val = accuracy_2\n",
    "            best_softmax = softmax\n",
    "        \n",
    "# *****END OF YOUR CODE (DO NOT DELETE/MODIFY THIS LINE)*****\n",
    "    \n",
    "# Print out results.\n",
    "for lr, reg in sorted(results):\n",
    "    train_accuracy, val_accuracy = results[(lr, reg)]\n",
    "    print('lr %e reg %e train accuracy: %f val accuracy: %f' % (\n",
    "                lr, reg, train_accuracy, val_accuracy))\n",
    "    \n",
    "print('best validation accuracy achieved during cross-validation: %f' % best_val)"
   ]
  },
  {
   "cell_type": "code",
   "execution_count": 16,
   "metadata": {},
   "outputs": [
    {
     "name": "stdout",
     "output_type": "stream",
     "text": [
      "softmax on raw pixels final test set accuracy: 0.354000\n"
     ]
    }
   ],
   "source": [
    "# evaluate on test set\n",
    "# Evaluate the best softmax on test set\n",
    "y_test_pred = best_softmax.predict(X_test)\n",
    "test_accuracy = np.mean(y_test == y_test_pred)\n",
    "print('softmax on raw pixels final test set accuracy: %f' % (test_accuracy, ))"
   ]
  },
  {
   "cell_type": "markdown",
   "metadata": {
    "tags": [
     "pdf-inline"
    ]
   },
   "source": [
    "**Inline Question 2** - *True or False*\n",
    "\n",
    "Suppose the overall training loss is defined as the sum of the per-datapoint loss over all training examples. It is possible to add a new datapoint to a training set that would leave the SVM loss unchanged, but this is not the case with the Softmax classifier loss.\n",
    "\n",
    "$\\color{blue}{\\textit Your Answer:}$ T\n",
    "\n",
    "\n",
    "$\\color{blue}{\\textit Your Explanation:}$ In svm, if the score of the new added point is way too far from the correct range, it will be discarded. But in softmax, every point makes contribution to the calculation of loss.\n"
   ]
  },
  {
   "cell_type": "code",
   "execution_count": 17,
   "metadata": {},
   "outputs": [
    {
     "data": {
      "image/png": "[encoded data removed]",
      "text/plain": [
       "<Figure size 432x288 with 10 Axes>"
      ]
     },
     "metadata": {
      "needs_background": "light"
     },
     "output_type": "display_data"
    }
   ],
   "source": [
    "# Visualize the learned weights for each class\n",
    "w = best_softmax.W[:-1,:] # strip out the bias\n",
    "w = w.reshape(32, 32, 3, 10)\n",
    "\n",
    "w_min, w_max = np.min(w), np.max(w)\n",
    "\n",
    "classes = ['plane', 'car', 'bird', 'cat', 'deer', 'dog', 'frog', 'horse', 'ship', 'truck']\n",
    "for i in range(10):\n",
    "    plt.subplot(2, 5, i + 1)\n",
    "    \n",
    "    # Rescale the weights to be between 0 and 255\n",
    "    wimg = 255.0 * (w[:, :, :, i].squeeze() - w_min) / (w_max - w_min)\n",
    "    plt.imshow(wimg.astype('uint8'))\n",
    "    plt.axis('off')\n",
    "    plt.title(classes[i])"
   ]
  },
  {
   "cell_type": "code",
   "execution_count": null,
   "metadata": {},
   "outputs": [],
   "source": []
  }
 ],
 "metadata": {
  "kernelspec": {
   "display_name": "Python 3",
   "language": "python",
   "name": "python3"
  },
  "language_info": {
   "codemirror_mode": {
    "name": "ipython",
    "version": 3
   },
   "file_extension": ".py",
   "mimetype": "text/x-python",
   "name": "python",
   "nbconvert_exporter": "python",
   "pygments_lexer": "ipython3",
   "version": "3.7.4"
  }
 },
 "nbformat": 4,
 "nbformat_minor": 1
}
